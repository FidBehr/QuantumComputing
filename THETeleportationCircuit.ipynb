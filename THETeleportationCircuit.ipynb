{
 "cells": [
  {
   "cell_type": "code",
   "execution_count": 2,
   "id": "a000be1a-2b06-4787-a624-7bd5d8d77f16",
   "metadata": {},
   "outputs": [
    {
     "name": "stderr",
     "output_type": "stream",
     "text": [
      "ibmqfactory.load_account:WARNING:2022-01-07 19:22:38,316: Credentials are already in use. The existing account in the session will be replaced.\n"
     ]
    }
   ],
   "source": [
    "import numpy as np\n",
    "\n",
    "# Importing standard Qiskit libraries\n",
    "from qiskit import QuantumCircuit, transpile, Aer, IBMQ, execute, QuantumRegister, ClassicalRegister\n",
    "from qiskit.tools.jupyter import *\n",
    "from qiskit.visualization import *\n",
    "from ibm_quantum_widgets import *\n",
    "from qiskit.providers.aer import QasmSimulator\n",
    "\n",
    "# Loading your IBM Quantum account(s)\n",
    "provider = IBMQ.load_account()"
   ]
  },
  {
   "cell_type": "code",
   "execution_count": 50,
   "id": "86379396-3f88-4336-b4e1-9da33eabe3ec",
   "metadata": {},
   "outputs": [],
   "source": [
    "qr = QuantumRegister(3) # we only need three qubits for this particular teleportation circuit\n",
    "cr = ClassicalRegister(3)\n",
    "qc = QuantumCircuit(qr, cr)"
   ]
  },
  {
   "cell_type": "code",
   "execution_count": 51,
   "id": "daf969e7-bbb7-4a4f-8f1f-17779765d64b",
   "metadata": {},
   "outputs": [
    {
     "data": {
      "text/plain": [
       "<qiskit.circuit.instructionset.InstructionSet at 0x7f91e75debc0>"
      ]
     },
     "execution_count": 51,
     "metadata": {},
     "output_type": "execute_result"
    }
   ],
   "source": [
    "qc.x(0)\n",
    "qc.z(0) # prepare our \"unknown state\"\n",
    "qc.barrier() # for visualisation purposes"
   ]
  },
  {
   "cell_type": "code",
   "execution_count": 52,
   "id": "280c319b-754e-4a71-b168-a0fafea91037",
   "metadata": {},
   "outputs": [
    {
     "data": {
      "text/plain": [
       "<qiskit.circuit.instructionset.InstructionSet at 0x7f91e754de00>"
      ]
     },
     "execution_count": 52,
     "metadata": {},
     "output_type": "execute_result"
    }
   ],
   "source": [
    "qc.h(1)\n",
    "qc.cx(1,2) # prepare the EPR pair by entangeling states 1 and 2\n",
    "qc.barrier()"
   ]
  },
  {
   "cell_type": "code",
   "execution_count": 53,
   "id": "e1ff17ac-5541-4ad0-a9dc-536e2cd62513",
   "metadata": {},
   "outputs": [
    {
     "data": {
      "text/plain": [
       "<qiskit.circuit.instructionset.InstructionSet at 0x7f91e42b0b40>"
      ]
     },
     "execution_count": 53,
     "metadata": {},
     "output_type": "execute_result"
    }
   ],
   "source": [
    "qc.cx(0,1)\n",
    "qc.h(0)  # entangle unknown state with Alice's EPR state\n",
    "qc.measure(0,0)\n",
    "qc.measure(1,1)\n",
    "qc.barrier()\n",
    "qc.cx(1,2)\n",
    "qc.barrier()"
   ]
  },
  {
   "cell_type": "code",
   "execution_count": 54,
   "id": "babb354f-a13f-4e4f-9171-517d0ffcf9d6",
   "metadata": {},
   "outputs": [
    {
     "data": {
      "text/plain": [
       "<qiskit.circuit.instructionset.InstructionSet at 0x7f91e4274540>"
      ]
     },
     "execution_count": 54,
     "metadata": {},
     "output_type": "execute_result"
    }
   ],
   "source": [
    "qc.z(2)\n",
    "qc.x(2)\n",
    "qc.measure(2,2)"
   ]
  },
  {
   "cell_type": "code",
   "execution_count": 55,
   "id": "be6015ce-a823-4f55-915b-8b2b7ca559d3",
   "metadata": {},
   "outputs": [
    {
     "data": {
      "image/png": "[encoded data removed]",
      "text/plain": [
       "<Figure size 1029.27x264.88 with 1 Axes>"
      ]
     },
     "execution_count": 55,
     "metadata": {},
     "output_type": "execute_result"
    }
   ],
   "source": [
    "qc.draw()"
   ]
  },
  {
   "cell_type": "code",
   "execution_count": 56,
   "id": "1ed02793-abea-4662-afc4-712e79b6ccd5",
   "metadata": {},
   "outputs": [
    {
     "data": {
      "image/png": "[encoded data removed]",
      "text/plain": [
       "<Figure size 504x360 with 1 Axes>"
      ]
     },
     "execution_count": 56,
     "metadata": {},
     "output_type": "execute_result"
    }
   ],
   "source": [
    "backend = Aer.get_backend('qasm_simulator')\n",
    "job = execute(qc, backend, shots=1024)\n",
    "job_result = job.result()\n",
    "results = job_result.get_counts(qc)\n",
    "plot_histogram(results)"
   ]
  }
 ],
 "metadata": {
  "kernelspec": {
   "display_name": "Qiskit v0.34.1 (ipykernel)",
   "language": "python",
   "name": "python3"
  },
  "language_info": {
   "codemirror_mode": {
    "name": "ipython",
    "version": 3
   },
   "file_extension": ".py",
   "mimetype": "text/x-python",
   "name": "python",
   "nbconvert_exporter": "python",
   "pygments_lexer": "ipython3",
   "version": "3.8.10"
  },
  "widgets": {
   "application/vnd.jupyter.widget-state+json": {
    "state": {
     "005ea886f5e24f898effe18c1dcf84bb": {
      "model_module": "@jupyter-widgets/controls",
      "model_module_version": "1.5.0",
      "model_name": "HTMLModel",
      "state": {
       "layout": "IPY_MODEL_261ae14c03054ed0a20c79f9ab38dc7e",
       "style": "IPY_MODEL_40a4455559044a8d8b63c2e607c780e4",
       "value": "<h5>Backend</h5>"
      }
     },
     "0c453453949c49988b33699c74129df6": {
      "model_module": "@jupyter-widgets/controls",
      "model_module_version": "1.5.0",
      "model_name": "HTMLModel",
      "state": {
       "layout": "IPY_MODEL_c6f6bb8ee6a0494da8b755d22d544ed7",
       "style": "IPY_MODEL_fdbb90e8117f449a9e63d6e114372db1",
       "value": "<h5>Message</h5>"
      }
     },
     "1a4279e9e7df4cf380abfd77319d4222": {
      "model_module": "@jupyter-widgets/controls",
      "model_module_version": "1.5.0",
      "model_name": "DescriptionStyleModel",
      "state": {
       "description_width": ""
      }
     },
     "1f2534f43f1f4616a0eac51c415c7ae9": {
      "model_module": "@jupyter-widgets/base",
      "model_module_version": "1.2.0",
      "model_name": "LayoutModel",
      "state": {
       "width": "190px"
      }
     },
     "22b00bfe36d644a9b12baab6fe87f7f4": {
      "model_module": "@jupyter-widgets/base",
      "model_module_version": "1.2.0",
      "model_name": "LayoutModel",
      "state": {
       "width": "70px"
      }
     },
     "261ae14c03054ed0a20c79f9ab38dc7e": {
      "model_module": "@jupyter-widgets/base",
      "model_module_version": "1.2.0",
      "model_name": "LayoutModel",
      "state": {
       "width": "145px"
      }
     },
     "34d22fd2043f479a900eb2b45fe6e7a9": {
      "model_module": "@jupyter-widgets/base",
      "model_module_version": "1.2.0",
      "model_name": "LayoutModel",
      "state": {
       "margin": "0px 0px 10px 0px"
      }
     },
     "40a4455559044a8d8b63c2e607c780e4": {
      "model_module": "@jupyter-widgets/controls",
      "model_module_version": "1.5.0",
      "model_name": "DescriptionStyleModel",
      "state": {
       "description_width": ""
      }
     },
     "5d36d244458f436bba52ec6aca5279c7": {
      "model_module": "@jupyter-widgets/controls",
      "model_module_version": "1.5.0",
      "model_name": "GridBoxModel",
      "state": {
       "children": [
        "IPY_MODEL_a1ebb69f41d84fdb887878868f21df63"
       ],
       "layout": "IPY_MODEL_eb49570f316d490dabadc4853a77ca42"
      }
     },
     "5e129fbe80ef45f5a94a93d59f8153b5": {
      "model_module": "@jupyter-widgets/base",
      "model_module_version": "1.2.0",
      "model_name": "LayoutModel",
      "state": {
       "margin": "0px 0px 0px 37px",
       "width": "600px"
      }
     },
     "60b1416392c94036b7aaf23082cd89c8": {
      "model_module": "@jupyter-widgets/base",
      "model_module_version": "1.2.0",
      "model_name": "LayoutModel",
      "state": {
       "grid_area": "right",
       "padding": "0px 0px 0px 0px",
       "width": "70px"
      }
     },
     "a1ebb69f41d84fdb887878868f21df63": {
      "model_module": "@jupyter-widgets/controls",
      "model_module_version": "1.5.0",
      "model_name": "ButtonModel",
      "state": {
       "button_style": "primary",
       "description": "Clear",
       "layout": "IPY_MODEL_60b1416392c94036b7aaf23082cd89c8",
       "style": "IPY_MODEL_e8313bfc264d437da1d03daf619dd3f0"
      }
     },
     "a845401c10854dffabc776284369babd": {
      "model_module": "@jupyter-widgets/controls",
      "model_module_version": "1.5.0",
      "model_name": "HTMLModel",
      "state": {
       "layout": "IPY_MODEL_22b00bfe36d644a9b12baab6fe87f7f4",
       "style": "IPY_MODEL_1a4279e9e7df4cf380abfd77319d4222",
       "value": "<h5>Queue</h5>"
      }
     },
     "b39785ff3e074f5bb6cfd28f99d6aaa6": {
      "model_module": "@jupyter-widgets/controls",
      "model_module_version": "1.5.0",
      "model_name": "HTMLModel",
      "state": {
       "layout": "IPY_MODEL_34d22fd2043f479a900eb2b45fe6e7a9",
       "style": "IPY_MODEL_e9b6e2e1dee045e3a8c74be5b96303b6",
       "value": "<p style='font-family: IBM Plex Sans, Arial, Helvetica, sans-serif; font-size: 20px; font-weight: medium;'>Circuit Properties</p>"
      }
     },
     "bf61a8f4f1874017816fc23f5935ee48": {
      "model_module": "@jupyter-widgets/controls",
      "model_module_version": "1.5.0",
      "model_name": "DescriptionStyleModel",
      "state": {
       "description_width": ""
      }
     },
     "c106c7c7a3c64a5ba1211ec55f1f683b": {
      "model_module": "@jupyter-widgets/base",
      "model_module_version": "1.2.0",
      "model_name": "LayoutModel",
      "state": {
       "width": "95px"
      }
     },
     "c6f6bb8ee6a0494da8b755d22d544ed7": {
      "model_module": "@jupyter-widgets/base",
      "model_module_version": "1.2.0",
      "model_name": "LayoutModel",
      "state": {}
     },
     "c75ac0d314264e1a8e9f513249068170": {
      "model_module": "@jupyter-widgets/controls",
      "model_module_version": "1.5.0",
      "model_name": "HTMLModel",
      "state": {
       "layout": "IPY_MODEL_c106c7c7a3c64a5ba1211ec55f1f683b",
       "style": "IPY_MODEL_f6d2c123e88643a5bd95ea28c82941e6",
       "value": "<h5>Status</h5>"
      }
     },
     "c95c0a0553d6499bbf4137075b5112bb": {
      "model_module": "@jupyter-widgets/controls",
      "model_module_version": "1.5.0",
      "model_name": "HTMLModel",
      "state": {
       "layout": "IPY_MODEL_1f2534f43f1f4616a0eac51c415c7ae9",
       "style": "IPY_MODEL_bf61a8f4f1874017816fc23f5935ee48",
       "value": "<h5>Job ID</h5>"
      }
     },
     "e8313bfc264d437da1d03daf619dd3f0": {
      "model_module": "@jupyter-widgets/controls",
      "model_module_version": "1.5.0",
      "model_name": "ButtonStyleModel",
      "state": {}
     },
     "e9b6e2e1dee045e3a8c74be5b96303b6": {
      "model_module": "@jupyter-widgets/controls",
      "model_module_version": "1.5.0",
      "model_name": "DescriptionStyleModel",
      "state": {
       "description_width": ""
      }
     },
     "eb49570f316d490dabadc4853a77ca42": {
      "model_module": "@jupyter-widgets/base",
      "model_module_version": "1.2.0",
      "model_name": "LayoutModel",
      "state": {
       "grid_template_areas": "\n                                       \". . . . right \"\n                                        ",
       "grid_template_columns": "20% 20% 20% 20% 20%",
       "width": "100%"
      }
     },
     "f6d2c123e88643a5bd95ea28c82941e6": {
      "model_module": "@jupyter-widgets/controls",
      "model_module_version": "1.5.0",
      "model_name": "DescriptionStyleModel",
      "state": {
       "description_width": ""
      }
     },
     "fab0b2ffc146493cabd8cf86ef02d436": {
      "model_module": "@jupyter-widgets/controls",
      "model_module_version": "1.5.0",
      "model_name": "HBoxModel",
      "state": {
       "children": [
        "IPY_MODEL_c95c0a0553d6499bbf4137075b5112bb",
        "IPY_MODEL_005ea886f5e24f898effe18c1dcf84bb",
        "IPY_MODEL_c75ac0d314264e1a8e9f513249068170",
        "IPY_MODEL_a845401c10854dffabc776284369babd",
        "IPY_MODEL_0c453453949c49988b33699c74129df6"
       ],
       "layout": "IPY_MODEL_5e129fbe80ef45f5a94a93d59f8153b5"
      }
     },
     "fdbb90e8117f449a9e63d6e114372db1": {
      "model_module": "@jupyter-widgets/controls",
      "model_module_version": "1.5.0",
      "model_name": "DescriptionStyleModel",
      "state": {
       "description_width": ""
      }
     }
    },
    "version_major": 2,
    "version_minor": 0
   }
  }
 },
 "nbformat": 4,
 "nbformat_minor": 5
}
