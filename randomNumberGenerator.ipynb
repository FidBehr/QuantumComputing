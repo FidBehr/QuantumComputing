{
 "cells": [
  {
   "cell_type": "code",
   "execution_count": 1,
   "id": "79e69132-8f9b-4df2-bff2-1b06f38bd69d",
   "metadata": {},
   "outputs": [],
   "source": [
    "import numpy as np\n",
    "\n",
    "# Importing standard Qiskit libraries\n",
    "from qiskit import QuantumCircuit, transpile, Aer, execute, IBMQ, QuantumRegister, ClassicalRegister\n",
    "from qiskit.tools.jupyter import *\n",
    "from qiskit.visualization import *\n",
    "from ibm_quantum_widgets import *\n",
    "from qiskit.providers.aer import QasmSimulator\n",
    "\n",
    "# Loading your IBM Quantum account(s)\n",
    "provider = IBMQ.load_account()"
   ]
  },
  {
   "cell_type": "code",
   "execution_count": 2,
   "id": "bf65e7f2-82e2-46ee-be11-11a8af30bb71",
   "metadata": {},
   "outputs": [],
   "source": [
    "qr = QuantumRegister(4, 'qr') # initialise 16-qubit register\n",
    "cr = ClassicalRegister(4, 'cr') # initialise 16 classical bit register\n",
    "\n",
    "circuit = QuantumCircuit(qr, cr) # initialise the quantum circuit"
   ]
  },
  {
   "cell_type": "code",
   "execution_count": 3,
   "id": "c89d6d74-7759-4e83-969a-2273b0cc47e3",
   "metadata": {},
   "outputs": [
    {
     "data": {
      "text/plain": [
       "<qiskit.circuit.instructionset.InstructionSet at 0x7f5438fceb40>"
      ]
     },
     "execution_count": 3,
     "metadata": {},
     "output_type": "execute_result"
    }
   ],
   "source": [
    "circuit.h(qr) # apply Hadamard gate to all qubits to achieve superposition\n",
    "circuit.measure(qr, cr) # measure all qubits to collapse the wavefunctions and obtain true random outcomes"
   ]
  },
  {
   "cell_type": "code",
   "execution_count": 4,
   "id": "f2c011f3-ab50-4a2b-b8d2-266705559c07",
   "metadata": {},
   "outputs": [
    {
     "data": {
      "image/png": "[encoded data removed]",
      "text/plain": [
       "<Figure size 396.251x325.08 with 1 Axes>"
      ]
     },
     "execution_count": 4,
     "metadata": {},
     "output_type": "execute_result"
    }
   ],
   "source": [
    "circuit.draw()"
   ]
  },
  {
   "cell_type": "code",
   "execution_count": 5,
   "id": "1d95ff7a-0210-47e3-9fae-2ddac28797ec",
   "metadata": {},
   "outputs": [
    {
     "name": "stdout",
     "output_type": "stream",
     "text": [
      "RESULT:  {'1110': 4, '1001': 10, '1000': 7, '1010': 6, '1111': 13, '1101': 7, '0101': 6, '1100': 4, '0001': 4, '0010': 10, '0000': 2, '0011': 7, '0111': 4, '0110': 6, '0100': 5, '1011': 5} \n",
      "\n"
     ]
    }
   ],
   "source": [
    "backend = Aer.get_backend('qasm_simulator') # choose machine\n",
    "job = execute(circuit, backend, shots=100) # execute the circuit 10 times\n",
    "result = job.result()\n",
    "counts = result.get_counts(circuit)\n",
    "print('RESULT: ',counts,'\\n')"
   ]
  },
  {
   "cell_type": "code",
   "execution_count": 6,
   "id": "c01ae484-6142-4a79-bfe9-642193cd9d80",
   "metadata": {},
   "outputs": [
    {
     "data": {
      "image/png": "[encoded data removed]",
      "text/plain": [
       "<Figure size 504x360 with 1 Axes>"
      ]
     },
     "execution_count": 6,
     "metadata": {},
     "output_type": "execute_result"
    }
   ],
   "source": [
    "plot_histogram(counts) # plot how many times each state is measured"
   ]
  },
  {
   "cell_type": "code",
   "execution_count": null,
   "id": "5da0b6fa-08ae-47cd-abc4-0cf388185e75",
   "metadata": {},
   "outputs": [],
   "source": []
  }
 ],
 "metadata": {
  "kernelspec": {
   "display_name": "Qiskit v0.34.1 (ipykernel)",
   "language": "python",
   "name": "python3"
  },
  "language_info": {
   "codemirror_mode": {
    "name": "ipython",
    "version": 3
   },
   "file_extension": ".py",
   "mimetype": "text/x-python",
   "name": "python",
   "nbconvert_exporter": "python",
   "pygments_lexer": "ipython3",
   "version": "3.8.10"
  },
  "widgets": {
   "application/vnd.jupyter.widget-state+json": {
    "state": {
     "016f5b67e94e4b50a9ad1385f695b494": {
      "model_module": "@jupyter-widgets/base",
      "model_module_version": "1.2.0",
      "model_name": "LayoutModel",
      "state": {
       "width": "70px"
      }
     },
     "047e6e74620e4008846bab1e77c5896c": {
      "model_module": "@jupyter-widgets/base",
      "model_module_version": "1.2.0",
      "model_name": "LayoutModel",
      "state": {
       "grid_template_areas": "\n                                       \". . . . right \"\n                                        ",
       "grid_template_columns": "20% 20% 20% 20% 20%",
       "width": "100%"
      }
     },
     "049ff289607e4897a1b44336edb12665": {
      "model_module": "@jupyter-widgets/base",
      "model_module_version": "1.2.0",
      "model_name": "LayoutModel",
      "state": {
       "grid_area": "right",
       "padding": "0px 0px 0px 0px",
       "width": "70px"
      }
     },
     "1113b54859b84d668cafb991cc1fbac1": {
      "model_module": "@jupyter-widgets/controls",
      "model_module_version": "1.5.0",
      "model_name": "DescriptionStyleModel",
      "state": {
       "description_width": ""
      }
     },
     "1de818f525044bc3a403700d76465851": {
      "model_module": "@jupyter-widgets/controls",
      "model_module_version": "1.5.0",
      "model_name": "DescriptionStyleModel",
      "state": {
       "description_width": ""
      }
     },
     "2e6a302d1313432f882d297420536cef": {
      "model_module": "@jupyter-widgets/controls",
      "model_module_version": "1.5.0",
      "model_name": "HTMLModel",
      "state": {
       "layout": "IPY_MODEL_aac63601d87a4cbc934a4fe68d38da4c",
       "style": "IPY_MODEL_a52881bd43d04329b3733f4e5080192f",
       "value": "<h5>Status</h5>"
      }
     },
     "314ab54512344a50b7fd66511e1cbe27": {
      "model_module": "@jupyter-widgets/controls",
      "model_module_version": "1.5.0",
      "model_name": "HTMLModel",
      "state": {
       "layout": "IPY_MODEL_61825a80a5a241bf854259bcce79c130",
       "style": "IPY_MODEL_77c1e197c3e24195afcf7c90bdcaa772",
       "value": "<h5>Backend</h5>"
      }
     },
     "59992d6eef7f4f7395861531e1dcd42f": {
      "model_module": "@jupyter-widgets/controls",
      "model_module_version": "1.5.0",
      "model_name": "DescriptionStyleModel",
      "state": {
       "description_width": ""
      }
     },
     "5f222d1fbfc44cf19466395afd69cd80": {
      "model_module": "@jupyter-widgets/controls",
      "model_module_version": "1.5.0",
      "model_name": "ButtonStyleModel",
      "state": {}
     },
     "61825a80a5a241bf854259bcce79c130": {
      "model_module": "@jupyter-widgets/base",
      "model_module_version": "1.2.0",
      "model_name": "LayoutModel",
      "state": {
       "width": "145px"
      }
     },
     "771aa53d8ecd4752b1e5e4223301adba": {
      "model_module": "@jupyter-widgets/controls",
      "model_module_version": "1.5.0",
      "model_name": "HBoxModel",
      "state": {
       "children": [
        "IPY_MODEL_b37eea012ec8466b817bb70ab145f9c3",
        "IPY_MODEL_314ab54512344a50b7fd66511e1cbe27",
        "IPY_MODEL_2e6a302d1313432f882d297420536cef",
        "IPY_MODEL_9a0db4a1effc4d08b1257350b09bccd7",
        "IPY_MODEL_9971d6c004e7415791e6c7d37ca759fe"
       ],
       "layout": "IPY_MODEL_b8329c98d7de4820bd00c8d64890b0f2"
      }
     },
     "77c1e197c3e24195afcf7c90bdcaa772": {
      "model_module": "@jupyter-widgets/controls",
      "model_module_version": "1.5.0",
      "model_name": "DescriptionStyleModel",
      "state": {
       "description_width": ""
      }
     },
     "7d18bc1b0a724e46a18dd89da9b470e3": {
      "model_module": "@jupyter-widgets/base",
      "model_module_version": "1.2.0",
      "model_name": "LayoutModel",
      "state": {
       "width": "190px"
      }
     },
     "8c519577e01341468e0df8d530530e62": {
      "model_module": "@jupyter-widgets/controls",
      "model_module_version": "1.5.0",
      "model_name": "ButtonModel",
      "state": {
       "button_style": "primary",
       "description": "Clear",
       "layout": "IPY_MODEL_049ff289607e4897a1b44336edb12665",
       "style": "IPY_MODEL_5f222d1fbfc44cf19466395afd69cd80"
      }
     },
     "92d48c81f29a4d67814259f1994f7adc": {
      "model_module": "@jupyter-widgets/controls",
      "model_module_version": "1.5.0",
      "model_name": "GridBoxModel",
      "state": {
       "children": [
        "IPY_MODEL_8c519577e01341468e0df8d530530e62"
       ],
       "layout": "IPY_MODEL_047e6e74620e4008846bab1e77c5896c"
      }
     },
     "968e0988f55a498b91ae50df0a80e9e5": {
      "model_module": "@jupyter-widgets/controls",
      "model_module_version": "1.5.0",
      "model_name": "DescriptionStyleModel",
      "state": {
       "description_width": ""
      }
     },
     "9971d6c004e7415791e6c7d37ca759fe": {
      "model_module": "@jupyter-widgets/controls",
      "model_module_version": "1.5.0",
      "model_name": "HTMLModel",
      "state": {
       "layout": "IPY_MODEL_dac7f47877964030af573d45167cef89",
       "style": "IPY_MODEL_1113b54859b84d668cafb991cc1fbac1",
       "value": "<h5>Message</h5>"
      }
     },
     "9a0db4a1effc4d08b1257350b09bccd7": {
      "model_module": "@jupyter-widgets/controls",
      "model_module_version": "1.5.0",
      "model_name": "HTMLModel",
      "state": {
       "layout": "IPY_MODEL_016f5b67e94e4b50a9ad1385f695b494",
       "style": "IPY_MODEL_1de818f525044bc3a403700d76465851",
       "value": "<h5>Queue</h5>"
      }
     },
     "a52881bd43d04329b3733f4e5080192f": {
      "model_module": "@jupyter-widgets/controls",
      "model_module_version": "1.5.0",
      "model_name": "DescriptionStyleModel",
      "state": {
       "description_width": ""
      }
     },
     "aac63601d87a4cbc934a4fe68d38da4c": {
      "model_module": "@jupyter-widgets/base",
      "model_module_version": "1.2.0",
      "model_name": "LayoutModel",
      "state": {
       "width": "95px"
      }
     },
     "b37eea012ec8466b817bb70ab145f9c3": {
      "model_module": "@jupyter-widgets/controls",
      "model_module_version": "1.5.0",
      "model_name": "HTMLModel",
      "state": {
       "layout": "IPY_MODEL_7d18bc1b0a724e46a18dd89da9b470e3",
       "style": "IPY_MODEL_968e0988f55a498b91ae50df0a80e9e5",
       "value": "<h5>Job ID</h5>"
      }
     },
     "b8329c98d7de4820bd00c8d64890b0f2": {
      "model_module": "@jupyter-widgets/base",
      "model_module_version": "1.2.0",
      "model_name": "LayoutModel",
      "state": {
       "margin": "0px 0px 0px 37px",
       "width": "600px"
      }
     },
     "c03942ef659f4591988d832446ea44a5": {
      "model_module": "@jupyter-widgets/controls",
      "model_module_version": "1.5.0",
      "model_name": "HTMLModel",
      "state": {
       "layout": "IPY_MODEL_f1a886e8f6434582b6c2af0fc1d1bc5c",
       "style": "IPY_MODEL_59992d6eef7f4f7395861531e1dcd42f",
       "value": "<p style='font-family: IBM Plex Sans, Arial, Helvetica, sans-serif; font-size: 20px; font-weight: medium;'>Circuit Properties</p>"
      }
     },
     "dac7f47877964030af573d45167cef89": {
      "model_module": "@jupyter-widgets/base",
      "model_module_version": "1.2.0",
      "model_name": "LayoutModel",
      "state": {}
     },
     "f1a886e8f6434582b6c2af0fc1d1bc5c": {
      "model_module": "@jupyter-widgets/base",
      "model_module_version": "1.2.0",
      "model_name": "LayoutModel",
      "state": {
       "margin": "0px 0px 10px 0px"
      }
     }
    },
    "version_major": 2,
    "version_minor": 0
   }
  }
 },
 "nbformat": 4,
 "nbformat_minor": 5
}
